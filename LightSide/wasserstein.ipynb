{
 "cells": [
  {
   "cell_type": "code",
   "execution_count": 12,
   "metadata": {},
   "outputs": [],
   "source": [
    "# import os\n",
    "# os.environ[\"KEOPS_BACKEND\"] = \"CPU\"\n",
    "\n"
   ]
  },
  {
   "cell_type": "code",
   "execution_count": 11,
   "metadata": {},
   "outputs": [],
   "source": [
    "# import pykeops\n",
    "# # pykeops.clean_pykeops()\n",
    "# # pykeops.build_pykeops()"
   ]
  },
  {
   "cell_type": "code",
   "execution_count": 1,
   "metadata": {},
   "outputs": [
    {
     "name": "stdout",
     "output_type": "stream",
     "text": [
      "[KeOps] Warning : \n",
      "    The default C++ compiler could not be found on your system.\n",
      "    You need to either define the CXX environment variable or a symlink to the g++ command.\n",
      "    For example if g++-8 is the command you can do\n",
      "      import os\n",
      "      os.environ['CXX'] = 'g++-8'\n",
      "    \n",
      "[KeOps] Warning : Cuda libraries were not detected on the system or could not be loaded ; using cpu only mode\n"
     ]
    }
   ],
   "source": [
    "import numpy as np\n",
    "import torch\n",
    "from geomloss import SamplesLoss\n",
    "\n",
    "def voxel_wasserstein_similarity(voxel1, voxel2):\n",
    "    \"\"\"\n",
    "    Compute the normalized Wasserstein similarity (0 to 1) between two 3D voxel grids using GeomLoss.\n",
    "    Converts the voxel grids into point clouds before computing the distance.\n",
    "    \n",
    "    Parameters:\n",
    "    voxel1 (ndarray): The first 3D voxel grid.\n",
    "    voxel2 (ndarray): The second 3D voxel grid.\n",
    "    \n",
    "    Returns:\n",
    "    float: The normalized Wasserstein similarity (1 indicates perfect similarity).\n",
    "    \"\"\"\n",
    "    # Convert voxel grids to point clouds (coordinates + intensities)\n",
    "    def voxel_to_point_cloud(voxel):\n",
    "        coords = np.argwhere(voxel > 0)  # Get coordinates of non-zero voxels\n",
    "        intensities = voxel[coords[:, 0], coords[:, 1], coords[:, 2]]  # Get corresponding intensities\n",
    "        return coords, intensities\n",
    "\n",
    "    # Handle completely empty grids\n",
    "    if np.all(voxel1 == 0) or np.all(voxel2 == 0):\n",
    "        return 0.0 if not np.array_equal(voxel1, voxel2) else 1.0\n",
    "\n",
    "    coords1, intensities1 = voxel_to_point_cloud(voxel1)\n",
    "    coords2, intensities2 = voxel_to_point_cloud(voxel2)\n",
    "\n",
    "    # Normalize intensities to form valid weights\n",
    "    weights1 = intensities1 / intensities1.sum() if intensities1.sum() > 0 else np.ones(len(intensities1)) / len(intensities1)\n",
    "    weights2 = intensities2 / intensities2.sum() if intensities2.sum() > 0 else np.ones(len(intensities2)) / len(intensities2)\n",
    "\n",
    "    # Convert to PyTorch tensors\n",
    "    coords1 = torch.tensor(coords1, dtype=torch.float32) if len(coords1) > 0 else torch.zeros((1, 3))\n",
    "    coords2 = torch.tensor(coords2, dtype=torch.float32) if len(coords2) > 0 else torch.zeros((1, 3))\n",
    "    weights1 = torch.tensor(weights1, dtype=torch.float32)\n",
    "    weights2 = torch.tensor(weights2, dtype=torch.float32)\n",
    "\n",
    "    # Define the Wasserstein loss function\n",
    "    loss_fn = SamplesLoss(\"sinkhorn\", p=2, blur=0.05)\n",
    "\n",
    "    # Compute the Wasserstein distance\n",
    "    wasserstein_distance = loss_fn(weights1, coords1, weights2, coords2).item()\n",
    "\n",
    "    # Compute maximum possible Wasserstein distance for normalization\n",
    "    max_distance = torch.linalg.norm(\n",
    "        torch.tensor(voxel1.shape, dtype=torch.float32)\n",
    "    ).item()\n",
    "\n",
    "    # Handle edge cases where max_distance is zero\n",
    "    if max_distance == 0:\n",
    "        return 1.0 if wasserstein_distance == 0 else 0.0\n",
    "\n",
    "    # Normalize the distance to get similarity\n",
    "    normalized_similarity = 1 - (wasserstein_distance / max_distance)\n",
    "\n",
    "    # Ensure the similarity is between 0 and 1\n",
    "    normalized_similarity = max(0, min(1, normalized_similarity))\n",
    "\n",
    "    return normalized_similarity\n"
   ]
  },
  {
   "cell_type": "code",
   "execution_count": 2,
   "metadata": {},
   "outputs": [],
   "source": [
    "import numpy as np\n",
    "import torch\n",
    "from geomloss import SamplesLoss\n",
    "\n",
    "def voxel_wasserstein_similarity(voxel1, voxel2):\n",
    "    \"\"\"\n",
    "    Compute the normalized Wasserstein similarity (0 to 1) between two 3D voxel grids using GeomLoss.\n",
    "    Converts the voxel grids into point clouds before computing the distance.\n",
    "    \n",
    "    Parameters:\n",
    "    voxel1 (ndarray): The first 3D voxel grid.\n",
    "    voxel2 (ndarray): The second 3D voxel grid.\n",
    "    \n",
    "    Returns:\n",
    "    float: The normalized Wasserstein similarity (1 indicates perfect similarity).\n",
    "    \"\"\"\n",
    "    # Convert voxel grids to point clouds (coordinates + intensities)\n",
    "    def voxel_to_point_cloud(voxel):\n",
    "        coords = np.argwhere(voxel > 0)  # Get coordinates of non-zero voxels\n",
    "        intensities = voxel[coords[:, 0], coords[:, 1], coords[:, 2]]  # Get corresponding intensities\n",
    "        return coords, intensities\n",
    "\n",
    "    # Handle completely empty grids\n",
    "    if np.all(voxel1 == 0) or np.all(voxel2 == 0):\n",
    "        return 0.0 if not np.array_equal(voxel1, voxel2) else 1.0\n",
    "\n",
    "    coords1, intensities1 = voxel_to_point_cloud(voxel1)\n",
    "    coords2, intensities2 = voxel_to_point_cloud(voxel2)\n",
    "\n",
    "    # Handle disjoint or very sparse point clouds\n",
    "    if len(coords1) == 0 or len(coords2) == 0:\n",
    "        return 0.0\n",
    "\n",
    "    # Normalize intensities to form valid weights\n",
    "    weights1 = intensities1 / intensities1.sum() if intensities1.sum() > 0 else np.ones(len(intensities1)) / len(intensities1)\n",
    "    weights2 = intensities2 / intensities2.sum() if intensities2.sum() > 0 else np.ones(len(intensities2)) / len(intensities2)\n",
    "\n",
    "    # Convert to PyTorch tensors\n",
    "    coords1 = torch.tensor(coords1, dtype=torch.float32) if len(coords1) > 0 else torch.zeros((1, 3))\n",
    "    coords2 = torch.tensor(coords2, dtype=torch.float32) if len(coords2) > 0 else torch.zeros((1, 3))\n",
    "    weights1 = torch.tensor(weights1, dtype=torch.float32)\n",
    "    weights2 = torch.tensor(weights2, dtype=torch.float32)\n",
    "\n",
    "    # Define the Wasserstein loss function\n",
    "    loss_fn = SamplesLoss(\"sinkhorn\", p=2, blur=0.05)\n",
    "\n",
    "    try:\n",
    "        # Compute the Wasserstein distance\n",
    "        wasserstein_distance = loss_fn(weights1, coords1, weights2, coords2).item()\n",
    "    except Exception as e:\n",
    "        print(f\"Error computing Wasserstein distance: {e}\")\n",
    "        return 0.0\n",
    "\n",
    "    # Compute maximum possible Wasserstein distance for normalization\n",
    "    max_distance = torch.linalg.norm(\n",
    "        torch.tensor(voxel1.shape, dtype=torch.float32)\n",
    "    ).item()\n",
    "\n",
    "    # Handle edge cases where max_distance is zero\n",
    "    if max_distance == 0:\n",
    "        return 1.0 if wasserstein_distance == 0 else 0.0\n",
    "\n",
    "    # Normalize the distance to get similarity\n",
    "    normalized_similarity = 1 - (wasserstein_distance / max_distance)\n",
    "\n",
    "    # Ensure the similarity is between 0 and 1\n",
    "    normalized_similarity = max(0, min(1, normalized_similarity))\n",
    "\n",
    "    return normalized_similarity\n"
   ]
  },
  {
   "cell_type": "code",
   "execution_count": 3,
   "metadata": {},
   "outputs": [],
   "source": [
    "voxel_basic = np.load(\"voxel_base.npy\")\n",
    "voxel_different_hole = np.load(\"voxel_different_hole.npy\")\n",
    "voxel_different = np.load(\"voxel_different.npy\")\n",
    "voxel_loss_big = np.load(\"voxel_loss_big.npy\")\n",
    "voxel_loss_small = np.load(\"voxel_loss_small.npy\")\n",
    "voxel_with_blob = np.load(\"voxel_with_blob.npy\")\n",
    "voxel_negative_blob = np.load(\"voxel_negative_blob.npy\")"
   ]
  },
  {
   "cell_type": "code",
   "execution_count": 4,
   "metadata": {},
   "outputs": [
    {
     "data": {
      "text/plain": [
       "(50, 50, 50)"
      ]
     },
     "execution_count": 4,
     "metadata": {},
     "output_type": "execute_result"
    }
   ],
   "source": [
    "voxel_negative_blob.shape"
   ]
  },
  {
   "cell_type": "code",
   "execution_count": 5,
   "metadata": {},
   "outputs": [
    {
     "name": "stdout",
     "output_type": "stream",
     "text": [
      "Error computing Wasserstein distance: name 'generic_logsumexp' is not defined\n"
     ]
    },
    {
     "data": {
      "text/plain": [
       "0.0"
      ]
     },
     "execution_count": 5,
     "metadata": {},
     "output_type": "execute_result"
    }
   ],
   "source": [
    "voxel_wasserstein_similarity(voxel_basic, voxel_negative_blob)  # 1.0"
   ]
  },
  {
   "cell_type": "code",
   "execution_count": 6,
   "metadata": {},
   "outputs": [],
   "source": [
    "def compare_deferred(metrics):    #borrowed from the Dark side\n",
    "    names = []\n",
    "    elements = []\n",
    "    symmetry_checks = {}\n",
    "\n",
    "    def append(name, ab):\n",
    "        names.append(name)\n",
    "        elements.append(ab)\n",
    "        for metric_name, metric_fn in metrics:      #symmetry check\n",
    "            value_ab = metric_fn(ab[0], ab[1])\n",
    "            value_ba = metric_fn(ab[1], ab[0])\n",
    "            symmetry_checks[(name, metric_name)] = 1 if value_ab == value_ba else 0\n",
    "        return [metric(*ab) for name, metric in metrics]\n",
    "\n",
    "    def table():\n",
    "        # Determine column widths for formatting\n",
    "        longest_metric_name_len = max(len(name) for name, _ in metrics)\n",
    "        longest_name_len = max(max(len(name) for name in names), 6)\n",
    "\n",
    "        print(\" \" * longest_metric_name_len, \"|\", end=\" \")\n",
    "        for name in names:\n",
    "            print(name + \" \" * (longest_name_len - len(name)), \"|\", end=\" \")\n",
    "        print(\"Symmetry\" + \" \" * (longest_name_len - 8), \"|\")\n",
    "\n",
    "        print(\"-\" * (longest_metric_name_len + 2 + (len(names) + 1) * (longest_name_len + 3)))\n",
    "\n",
    "        for metric_name, metric_fn in metrics:\n",
    "            print(\" \" * (longest_metric_name_len - len(metric_name)) + metric_name, \"|\", end=\" \")\n",
    "            for i, (a, b) in enumerate(elements):\n",
    "                value = repr(round(metric_fn(a, b), min(longest_name_len - 2, 4)))\n",
    "                print(value + \" \" * (longest_name_len - len(value)), \"|\", end=\" \")\n",
    "            symmetry = all(symmetry_checks[(name, metric_name)] for name in names)\n",
    "            print(f\"{symmetry}       |\")\n",
    "\n",
    "    return append, table\n",
    "\n",
    "\n",
    "metrics = [\n",
    "    (\"Wasserstein form geomloss\", voxel_wasserstein_similarity)\n",
    "]"
   ]
  },
  {
   "cell_type": "code",
   "execution_count": 7,
   "metadata": {},
   "outputs": [
    {
     "name": "stdout",
     "output_type": "stream",
     "text": [
      "Error computing Wasserstein distance: name 'generic_logsumexp' is not defined\n",
      "Error computing Wasserstein distance: name 'generic_logsumexp' is not defined\n",
      "Error computing Wasserstein distance: name 'generic_logsumexp' is not defined\n",
      "                          | Basic to Basic       | Basic to Different   | Basic to Small Loss  | Basic to Big Loss    | Basic to With Growth | Basic to Hole        | Basic to Negative    | Symmetry             |\n",
      "-------------------------------------------------------------------------------------------------------------------------------------------------------------------------------------------------------------------\n",
      "Wasserstein form geomloss | 1                    | 0.4118               | 0.9979               | 0.9248               | 0.9634               | 0.3948               | Error computing Wasserstein distance: name 'generic_logsumexp' is not defined\n",
      "0.0                  | True       |\n"
     ]
    }
   ],
   "source": [
    "voxel_pairs = [\n",
    "    (\"Basic\", voxel_basic),\n",
    "    (\"Different\", voxel_different),\n",
    "    (\"Small Loss\", voxel_loss_small),\n",
    "    (\"Big Loss\", voxel_loss_big),\n",
    "    (\"With Growth\", voxel_with_blob),\n",
    "    (\"Hole\", voxel_different_hole),\n",
    "    (\"Negative\", voxel_negative_blob)\n",
    "]\n",
    "compare_append, compare_table = compare_deferred(metrics)\n",
    "\n",
    "#All comparisons\n",
    "for (name, v1) in voxel_pairs:\n",
    "    compare_append(f\"Basic to {name}\", [voxel_basic, v1])\n",
    "\n",
    "compare_table()\n",
    "\n",
    "\n",
    "voxel_names, voxel_data = zip(*voxel_pairs)\n",
    "# plot_voxels_side_by_side(voxel_data, voxel_names, 2, 4)"
   ]
  }
 ],
 "metadata": {
  "kernelspec": {
   "display_name": "Python 3",
   "language": "python",
   "name": "python3"
  },
  "language_info": {
   "codemirror_mode": {
    "name": "ipython",
    "version": 3
   },
   "file_extension": ".py",
   "mimetype": "text/x-python",
   "name": "python",
   "nbconvert_exporter": "python",
   "pygments_lexer": "ipython3",
   "version": "3.10.7"
  }
 },
 "nbformat": 4,
 "nbformat_minor": 2
}
